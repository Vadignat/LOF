{
 "cells": [
  {
   "cell_type": "code",
   "execution_count": 1,
   "outputs": [],
   "source": [
    "import numpy as np\n",
    "import pandas as pd\n",
    "import matplotlib.pyplot as plt\n",
    "from sklearn.metrics import pairwise_distances\n",
    "from sklearn.neighbors import LocalOutlierFactor"
   ],
   "metadata": {
    "collapsed": false,
    "pycharm": {
     "name": "#%%\n"
    }
   }
  },
  {
   "cell_type": "code",
   "execution_count": 2,
   "outputs": [
    {
     "data": {
      "text/plain": "   x  y\na  1  1\nb  1  0\nc  3  2\nd  2  0",
      "text/html": "<div>\n<style scoped>\n    .dataframe tbody tr th:only-of-type {\n        vertical-align: middle;\n    }\n\n    .dataframe tbody tr th {\n        vertical-align: top;\n    }\n\n    .dataframe thead th {\n        text-align: right;\n    }\n</style>\n<table border=\"1\" class=\"dataframe\">\n  <thead>\n    <tr style=\"text-align: right;\">\n      <th></th>\n      <th>x</th>\n      <th>y</th>\n    </tr>\n  </thead>\n  <tbody>\n    <tr>\n      <th>a</th>\n      <td>1</td>\n      <td>1</td>\n    </tr>\n    <tr>\n      <th>b</th>\n      <td>1</td>\n      <td>0</td>\n    </tr>\n    <tr>\n      <th>c</th>\n      <td>3</td>\n      <td>2</td>\n    </tr>\n    <tr>\n      <th>d</th>\n      <td>2</td>\n      <td>0</td>\n    </tr>\n  </tbody>\n</table>\n</div>"
     },
     "execution_count": 2,
     "metadata": {},
     "output_type": "execute_result"
    }
   ],
   "source": [
    "X=pd.DataFrame(np.array([[1,1],[1,0],[3,2],[2,0]]),\n",
    "               columns=[\"x\",\"y\"],index=[\"a\",\"b\",\"c\",\"d\"])\n",
    "X"
   ],
   "metadata": {
    "collapsed": false,
    "pycharm": {
     "name": "#%%\n"
    }
   }
  },
  {
   "cell_type": "code",
   "execution_count": 3,
   "outputs": [
    {
     "data": {
      "text/plain": "     a    b    c    d\na  0.0  1.0  3.0  2.0\nb  1.0  0.0  4.0  1.0\nc  3.0  4.0  0.0  3.0\nd  2.0  1.0  3.0  0.0",
      "text/html": "<div>\n<style scoped>\n    .dataframe tbody tr th:only-of-type {\n        vertical-align: middle;\n    }\n\n    .dataframe tbody tr th {\n        vertical-align: top;\n    }\n\n    .dataframe thead th {\n        text-align: right;\n    }\n</style>\n<table border=\"1\" class=\"dataframe\">\n  <thead>\n    <tr style=\"text-align: right;\">\n      <th></th>\n      <th>a</th>\n      <th>b</th>\n      <th>c</th>\n      <th>d</th>\n    </tr>\n  </thead>\n  <tbody>\n    <tr>\n      <th>a</th>\n      <td>0.0</td>\n      <td>1.0</td>\n      <td>3.0</td>\n      <td>2.0</td>\n    </tr>\n    <tr>\n      <th>b</th>\n      <td>1.0</td>\n      <td>0.0</td>\n      <td>4.0</td>\n      <td>1.0</td>\n    </tr>\n    <tr>\n      <th>c</th>\n      <td>3.0</td>\n      <td>4.0</td>\n      <td>0.0</td>\n      <td>3.0</td>\n    </tr>\n    <tr>\n      <th>d</th>\n      <td>2.0</td>\n      <td>1.0</td>\n      <td>3.0</td>\n      <td>0.0</td>\n    </tr>\n  </tbody>\n</table>\n</div>"
     },
     "execution_count": 3,
     "metadata": {},
     "output_type": "execute_result"
    }
   ],
   "source": [
    "pd.DataFrame(pairwise_distances(X,metric=\"manhattan\"),\n",
    "             columns=[\"a\",\"b\",\"c\",\"d\"], index=[\"a\",\"b\",\"c\",\"d\"]) # to check the distances"
   ],
   "metadata": {
    "collapsed": false,
    "pycharm": {
     "name": "#%%\n"
    }
   }
  },
  {
   "cell_type": "code",
   "execution_count": 4,
   "outputs": [
    {
     "data": {
      "text/plain": "1.0"
     },
     "execution_count": 4,
     "metadata": {},
     "output_type": "execute_result"
    }
   ],
   "source": [
    "pairwise_distances(X,metric=\"manhattan\")[0][1]"
   ],
   "metadata": {
    "collapsed": false,
    "pycharm": {
     "name": "#%%\n"
    }
   }
  },
  {
   "cell_type": "code",
   "execution_count": 5,
   "outputs": [
    {
     "data": {
      "text/plain": "array([[0., 1., 3., 2.],\n       [1., 0., 4., 1.],\n       [3., 4., 0., 3.],\n       [2., 1., 3., 0.]])"
     },
     "execution_count": 5,
     "metadata": {},
     "output_type": "execute_result"
    }
   ],
   "source": [
    "pairwise_distances(X,metric=\"manhattan\")"
   ],
   "metadata": {
    "collapsed": false,
    "pycharm": {
     "name": "#%%\n"
    }
   }
  },
  {
   "cell_type": "code",
   "execution_count": 6,
   "outputs": [
    {
     "data": {
      "text/plain": "<Figure size 432x288 with 1 Axes>",
      "image/png": "[encoded data removed]"
     },
     "metadata": {
      "needs_background": "light"
     },
     "output_type": "display_data"
    }
   ],
   "source": [
    "plt.scatter(X.x, X.y, color = \"r\")\n",
    "plt.show()"
   ],
   "metadata": {
    "collapsed": false,
    "pycharm": {
     "name": "#%%\n"
    }
   }
  },
  {
   "cell_type": "code",
   "execution_count": 7,
   "outputs": [
    {
     "data": {
      "text/plain": "LocalOutlierFactor(metric='euclidean', n_neighbors=2)"
     },
     "execution_count": 7,
     "metadata": {},
     "output_type": "execute_result"
    }
   ],
   "source": [
    "LOF = LocalOutlierFactor(n_neighbors = 2,metric=\"euclidean\")\n",
    "# (k number of neighbors,distance measure)\n",
    "LOF.fit(X)"
   ],
   "metadata": {
    "collapsed": false,
    "pycharm": {
     "name": "#%%\n"
    }
   }
  },
  {
   "cell_type": "code",
   "execution_count": 8,
   "outputs": [
    {
     "data": {
      "text/plain": "array([0.9267767 , 1.17157288, 1.85241937, 0.9267767 ])"
     },
     "execution_count": 8,
     "metadata": {},
     "output_type": "execute_result"
    }
   ],
   "source": [
    "-LOF.negative_outlier_factor_\n",
    "#let's multiply the negative scores by - and see the positive scores"
   ],
   "metadata": {
    "collapsed": false,
    "pycharm": {
     "name": "#%%\n"
    }
   }
  },
  {
   "cell_type": "code",
   "execution_count": 9,
   "outputs": [],
   "source": [
    "import numpy as np\n",
    "import LOF as local\n",
    "my_LOF = local.LOF(np.array([[1,1],[1,0],[3,2],[2,0]]))"
   ],
   "metadata": {
    "collapsed": false,
    "pycharm": {
     "name": "#%%\n"
    }
   }
  },
  {
   "cell_type": "code",
   "execution_count": 10,
   "outputs": [
    {
     "data": {
      "text/plain": "array([0.9267767 , 1.17157288, 1.85241937, 0.9267767 ])"
     },
     "execution_count": 10,
     "metadata": {},
     "output_type": "execute_result"
    }
   ],
   "source": [
    "my_LOF.fit()"
   ],
   "metadata": {
    "collapsed": false,
    "pycharm": {
     "name": "#%%\n"
    }
   }
  },
  {
   "cell_type": "code",
   "execution_count": 11,
   "outputs": [],
   "source": [
    "a = np.loadtxt('AutoInsurSweden.txt')"
   ],
   "metadata": {
    "collapsed": false,
    "pycharm": {
     "name": "#%%\n"
    }
   }
  },
  {
   "cell_type": "code",
   "execution_count": 12,
   "outputs": [
    {
     "data": {
      "text/plain": "<Figure size 432x288 with 1 Axes>",
      "image/png": "[encoded data removed]"
     },
     "metadata": {
      "needs_background": "light"
     },
     "output_type": "display_data"
    }
   ],
   "source": [
    "plt.scatter(a.T[0], a.T[1], color = \"r\")\n",
    "plt.show()"
   ],
   "metadata": {
    "collapsed": false,
    "pycharm": {
     "name": "#%%\n"
    }
   }
  },
  {
   "cell_type": "code",
   "execution_count": 13,
   "outputs": [],
   "source": [
    "my_LOF = local.LOF(a)"
   ],
   "metadata": {
    "collapsed": false,
    "pycharm": {
     "name": "#%%\n"
    }
   }
  },
  {
   "cell_type": "code",
   "execution_count": 14,
   "outputs": [],
   "source": [
    "lof = my_LOF.fit()"
   ],
   "metadata": {
    "collapsed": false,
    "pycharm": {
     "name": "#%%\n"
    }
   }
  },
  {
   "cell_type": "code",
   "execution_count": 15,
   "outputs": [
    {
     "data": {
      "text/plain": "array([[108. , 392.5,   1. ],\n       [ 19. ,  46.2,   0. ],\n       [ 13. ,  15.7,   0. ],\n       [124. , 422.2,   1. ],\n       [ 40. , 119.4,   0. ],\n       [ 57. , 170.9,   0. ],\n       [ 23. ,  56.9,   0. ],\n       [ 14. ,  77.5,   0. ],\n       [ 45. , 214. ,   0. ],\n       [ 10. ,  65.3,   0. ],\n       [  5. ,  20.9,   0. ],\n       [ 48. , 248.1,   0. ],\n       [ 11. ,  23.5,   0. ],\n       [ 23. ,  39.6,   0. ],\n       [  7. ,  48.8,   0. ],\n       [  2. ,   6.6,   0. ],\n       [ 24. , 134.9,   0. ],\n       [  6. ,  50.9,   0. ],\n       [  3. ,   4.4,   0. ],\n       [ 23. , 113. ,   0. ],\n       [  6. ,  14.8,   0. ],\n       [  9. ,  48.7,   0. ],\n       [  9. ,  52.1,   0. ],\n       [  3. ,  13.2,   0. ],\n       [ 29. , 103.9,   0. ],\n       [  7. ,  77.5,   0. ],\n       [  4. ,  11.8,   0. ],\n       [ 20. ,  98.1,   0. ],\n       [  7. ,  27.9,   0. ],\n       [  4. ,  38.1,   0. ],\n       [  0. ,   0. ,   0. ],\n       [ 25. ,  69.2,   0. ],\n       [  6. ,  14.6,   0. ],\n       [  5. ,  40.3,   0. ],\n       [ 22. , 161.5,   0. ],\n       [ 11. ,  57.2,   0. ],\n       [ 61. , 217.6,   0. ],\n       [ 12. ,  58.1,   0. ],\n       [  4. ,  12.6,   0. ],\n       [ 16. ,  59.6,   0. ],\n       [ 13. ,  89.9,   0. ],\n       [ 60. , 202.4,   0. ],\n       [ 41. , 181.3,   0. ],\n       [ 37. , 152.8,   0. ],\n       [ 55. , 162.8,   0. ],\n       [ 41. ,  73.4,   0. ],\n       [ 11. ,  21.3,   0. ],\n       [ 27. ,  92.6,   0. ],\n       [  8. ,  76.1,   0. ],\n       [  3. ,  39.9,   0. ],\n       [ 17. , 142.1,   0. ],\n       [ 13. ,  93. ,   0. ],\n       [ 13. ,  31.9,   0. ],\n       [ 15. ,  32.1,   0. ],\n       [  8. ,  55.6,   0. ],\n       [ 29. , 133.3,   0. ],\n       [ 30. , 194.5,   0. ],\n       [ 24. , 137.9,   0. ],\n       [  9. ,  87.4,   0. ],\n       [ 31. , 209.8,   0. ],\n       [ 14. ,  95.5,   0. ],\n       [ 53. , 244.6,   0. ],\n       [ 26. , 187.5,   0. ]])"
     },
     "execution_count": 15,
     "metadata": {},
     "output_type": "execute_result"
    }
   ],
   "source": [
    "temp = lof > 2.5\n",
    "temp = np.reshape(temp,(63,1))\n",
    "np.append(a,temp, axis=1)"
   ],
   "metadata": {
    "collapsed": false,
    "pycharm": {
     "name": "#%%\n"
    }
   }
  },
  {
   "cell_type": "code",
   "execution_count": 16,
   "outputs": [
    {
     "data": {
      "text/plain": "<Figure size 432x288 with 1 Axes>",
      "image/png": "[encoded data removed]"
     },
     "metadata": {
      "needs_background": "light"
     },
     "output_type": "display_data"
    }
   ],
   "source": [
    "n, bin, patches = plt.hist(lof, bins=20)\n",
    "plt.show()"
   ],
   "metadata": {
    "collapsed": false,
    "pycharm": {
     "name": "#%%\n"
    }
   }
  }
 ],
 "metadata": {
  "kernelspec": {
   "display_name": "Python 3",
   "language": "python",
   "name": "python3"
  },
  "language_info": {
   "codemirror_mode": {
    "name": "ipython",
    "version": 2
   },
   "file_extension": ".py",
   "mimetype": "text/x-python",
   "name": "python",
   "nbconvert_exporter": "python",
   "pygments_lexer": "ipython2",
   "version": "2.7.6"
  }
 },
 "nbformat": 4,
 "nbformat_minor": 0
}